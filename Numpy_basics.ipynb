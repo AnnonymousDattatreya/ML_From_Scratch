{
 "cells": [
  {
   "cell_type": "markdown",
   "id": "10b90338",
   "metadata": {},
   "source": [
    " ##Exercise file for Numpy"
   ]
  },
  {
   "cell_type": "code",
   "execution_count": 1,
   "id": "b152a5f2",
   "metadata": {},
   "outputs": [],
   "source": [
    "myList = [1,2,3,4]"
   ]
  },
  {
   "cell_type": "code",
   "execution_count": 2,
   "id": "43a7a09a",
   "metadata": {},
   "outputs": [],
   "source": [
    "import numpy as np"
   ]
  },
  {
   "cell_type": "code",
   "execution_count": 3,
   "id": "3a049d37",
   "metadata": {},
   "outputs": [
    {
     "data": {
      "text/plain": [
       "array([1, 2, 3, 4])"
      ]
     },
     "execution_count": 3,
     "metadata": {},
     "output_type": "execute_result"
    }
   ],
   "source": [
    "np.array(myList)"
   ]
  },
  {
   "cell_type": "code",
   "execution_count": 4,
   "id": "a2b44a4c",
   "metadata": {},
   "outputs": [
    {
     "data": {
      "text/plain": [
       "array([1, 2, 3, 4, 5])"
      ]
     },
     "execution_count": 4,
     "metadata": {},
     "output_type": "execute_result"
    }
   ],
   "source": [
    "np.array([1,2,3,4,5])"
   ]
  },
  {
   "cell_type": "code",
   "execution_count": 5,
   "id": "2977c762",
   "metadata": {},
   "outputs": [],
   "source": [
    "my_array = np.array(myList)"
   ]
  },
  {
   "cell_type": "code",
   "execution_count": 7,
   "id": "a923e6a6",
   "metadata": {},
   "outputs": [
    {
     "data": {
      "text/plain": [
       "array([1, 2, 3, 4])"
      ]
     },
     "execution_count": 7,
     "metadata": {},
     "output_type": "execute_result"
    }
   ],
   "source": [
    "my_array"
   ]
  },
  {
   "cell_type": "code",
   "execution_count": 8,
   "id": "99f8a88b",
   "metadata": {},
   "outputs": [],
   "source": [
    "Array_Multilist = [[12,34,56], [23,56,78], [123,456,779,1234]]"
   ]
  },
  {
   "cell_type": "code",
   "execution_count": 9,
   "id": "7a488892",
   "metadata": {},
   "outputs": [],
   "source": [
    "Array_2d = np.array(Array_Multilist)"
   ]
  },
  {
   "cell_type": "code",
   "execution_count": 10,
   "id": "e1433afc",
   "metadata": {},
   "outputs": [
    {
     "data": {
      "text/plain": [
       "array([list([12, 34, 56]), list([23, 56, 78]),\n",
       "       list([123, 456, 779, 1234])], dtype=object)"
      ]
     },
     "execution_count": 10,
     "metadata": {},
     "output_type": "execute_result"
    }
   ],
   "source": [
    "Array_2d"
   ]
  },
  {
   "cell_type": "code",
   "execution_count": 11,
   "id": "82471891",
   "metadata": {},
   "outputs": [
    {
     "data": {
      "text/plain": [
       "array([0, 1, 2, 3, 4, 5, 6, 7, 8, 9])"
      ]
     },
     "execution_count": 11,
     "metadata": {},
     "output_type": "execute_result"
    }
   ],
   "source": [
    "np.arange(0,10) #Last number is exclusive\n",
    "# Gives a matrix\n",
    "#Look for [] to know is the array dimension"
   ]
  },
  {
   "cell_type": "code",
   "execution_count": 12,
   "id": "43b156e0",
   "metadata": {},
   "outputs": [
    {
     "data": {
      "text/plain": [
       "array([ 1,  3,  5,  7,  9, 11, 13, 15, 17, 19])"
      ]
     },
     "execution_count": 12,
     "metadata": {},
     "output_type": "execute_result"
    }
   ],
   "source": [
    "np.arange(1,20,2)"
   ]
  },
  {
   "cell_type": "code",
   "execution_count": 13,
   "id": "c28926d5",
   "metadata": {},
   "outputs": [
    {
     "data": {
      "text/plain": [
       "array([[0., 0., 0., 0.],\n",
       "       [0., 0., 0., 0.],\n",
       "       [0., 0., 0., 0.],\n",
       "       [0., 0., 0., 0.]])"
      ]
     },
     "execution_count": 13,
     "metadata": {},
     "output_type": "execute_result"
    }
   ],
   "source": [
    "np.zeros([4,4]) # 2D zero matrix"
   ]
  },
  {
   "cell_type": "code",
   "execution_count": 14,
   "id": "1c162a85",
   "metadata": {},
   "outputs": [
    {
     "ename": "TypeError",
     "evalue": "'builtin_function_or_method' object is not subscriptable",
     "output_type": "error",
     "traceback": [
      "\u001b[1;31m---------------------------------------------------------------------------\u001b[0m",
      "\u001b[1;31mTypeError\u001b[0m                                 Traceback (most recent call last)",
      "Input \u001b[1;32mIn [14]\u001b[0m, in \u001b[0;36m<cell line: 1>\u001b[1;34m()\u001b[0m\n\u001b[1;32m----> 1\u001b[0m \u001b[43mnp\u001b[49m\u001b[38;5;241;43m.\u001b[39;49m\u001b[43mzeros\u001b[49m\u001b[43m[\u001b[49m\u001b[38;5;241;43m4\u001b[39;49m\u001b[43m,\u001b[49m\u001b[38;5;241;43m4\u001b[39;49m\u001b[43m,\u001b[49m\u001b[38;5;241;43m4\u001b[39;49m\u001b[43m]\u001b[49m\n",
      "\u001b[1;31mTypeError\u001b[0m: 'builtin_function_or_method' object is not subscriptable"
     ]
    }
   ],
   "source": [
    "np.zeros[4,4,4] # Only supports 2D array"
   ]
  },
  {
   "cell_type": "markdown",
   "id": "ec3444d0",
   "metadata": {},
   "source": [
    "## Get a Matrix of all ones with 3x4"
   ]
  },
  {
   "cell_type": "code",
   "execution_count": 15,
   "id": "d583960d",
   "metadata": {},
   "outputs": [
    {
     "ename": "TypeError",
     "evalue": "data type not understood",
     "output_type": "error",
     "traceback": [
      "\u001b[1;31m---------------------------------------------------------------------------\u001b[0m",
      "\u001b[1;31mTypeError\u001b[0m                                 Traceback (most recent call last)",
      "Input \u001b[1;32mIn [15]\u001b[0m, in \u001b[0;36m<cell line: 1>\u001b[1;34m()\u001b[0m\n\u001b[1;32m----> 1\u001b[0m \u001b[43mnp\u001b[49m\u001b[38;5;241;43m.\u001b[39;49m\u001b[43mones\u001b[49m\u001b[43m(\u001b[49m\u001b[38;5;241;43m3\u001b[39;49m\u001b[43m,\u001b[49m\u001b[38;5;241;43m4\u001b[39;49m\u001b[43m)\u001b[49m\n",
      "File \u001b[1;32m~\\anaconda3\\envs\\ML_BootCamp\\lib\\site-packages\\numpy\\core\\numeric.py:223\u001b[0m, in \u001b[0;36mones\u001b[1;34m(shape, dtype, order)\u001b[0m\n\u001b[0;32m    175\u001b[0m \u001b[38;5;129m@set_module\u001b[39m(\u001b[38;5;124m'\u001b[39m\u001b[38;5;124mnumpy\u001b[39m\u001b[38;5;124m'\u001b[39m)\n\u001b[0;32m    176\u001b[0m \u001b[38;5;28;01mdef\u001b[39;00m \u001b[38;5;21mones\u001b[39m(shape, dtype\u001b[38;5;241m=\u001b[39m\u001b[38;5;28;01mNone\u001b[39;00m, order\u001b[38;5;241m=\u001b[39m\u001b[38;5;124m'\u001b[39m\u001b[38;5;124mC\u001b[39m\u001b[38;5;124m'\u001b[39m):\n\u001b[0;32m    177\u001b[0m     \u001b[38;5;124;03m\"\"\"\u001b[39;00m\n\u001b[0;32m    178\u001b[0m \u001b[38;5;124;03m    Return a new array of given shape and type, filled with ones.\u001b[39;00m\n\u001b[0;32m    179\u001b[0m \n\u001b[1;32m   (...)\u001b[0m\n\u001b[0;32m    221\u001b[0m \n\u001b[0;32m    222\u001b[0m \u001b[38;5;124;03m    \"\"\"\u001b[39;00m\n\u001b[1;32m--> 223\u001b[0m     a \u001b[38;5;241m=\u001b[39m \u001b[43mempty\u001b[49m\u001b[43m(\u001b[49m\u001b[43mshape\u001b[49m\u001b[43m,\u001b[49m\u001b[43m \u001b[49m\u001b[43mdtype\u001b[49m\u001b[43m,\u001b[49m\u001b[43m \u001b[49m\u001b[43morder\u001b[49m\u001b[43m)\u001b[49m\n\u001b[0;32m    224\u001b[0m     multiarray\u001b[38;5;241m.\u001b[39mcopyto(a, \u001b[38;5;241m1\u001b[39m, casting\u001b[38;5;241m=\u001b[39m\u001b[38;5;124m'\u001b[39m\u001b[38;5;124munsafe\u001b[39m\u001b[38;5;124m'\u001b[39m)\n\u001b[0;32m    225\u001b[0m     \u001b[38;5;28;01mreturn\u001b[39;00m a\n",
      "\u001b[1;31mTypeError\u001b[0m: data type not understood"
     ]
    }
   ],
   "source": [
    "np.ones(3,4)"
   ]
  },
  {
   "cell_type": "code",
   "execution_count": 16,
   "id": "59eee5ce",
   "metadata": {},
   "outputs": [
    {
     "data": {
      "text/plain": [
       "array([[1., 1., 1., 1.],\n",
       "       [1., 1., 1., 1.],\n",
       "       [1., 1., 1., 1.]])"
      ]
     },
     "execution_count": 16,
     "metadata": {},
     "output_type": "execute_result"
    }
   ],
   "source": [
    "np.ones([3,4])"
   ]
  },
  {
   "cell_type": "code",
   "execution_count": 18,
   "id": "ebcafe84",
   "metadata": {},
   "outputs": [
    {
     "data": {
      "text/plain": [
       "array([0.        , 0.35714286, 0.71428571, 1.07142857, 1.42857143,\n",
       "       1.78571429, 2.14285714, 2.5       , 2.85714286, 3.21428571,\n",
       "       3.57142857, 3.92857143, 4.28571429, 4.64285714, 5.        ])"
      ]
     },
     "execution_count": 18,
     "metadata": {},
     "output_type": "execute_result"
    }
   ],
   "source": [
    "np.linspace(0,5, 15) # Gives a equally spaced values between a given range"
   ]
  },
  {
   "cell_type": "code",
   "execution_count": 19,
   "id": "9fd0b592",
   "metadata": {},
   "outputs": [
    {
     "data": {
      "text/plain": [
       "array([ 1., 10.])"
      ]
     },
     "execution_count": 19,
     "metadata": {},
     "output_type": "execute_result"
    }
   ],
   "source": [
    "np.linspace(1,10,2)"
   ]
  },
  {
   "cell_type": "code",
   "execution_count": 20,
   "id": "3bc17989",
   "metadata": {},
   "outputs": [
    {
     "data": {
      "text/plain": [
       "array([0.  , 0.25, 0.5 , 0.75, 1.  ])"
      ]
     },
     "execution_count": 20,
     "metadata": {},
     "output_type": "execute_result"
    }
   ],
   "source": [
    "np.linspace(0,1,5)"
   ]
  },
  {
   "cell_type": "code",
   "execution_count": 21,
   "id": "fcce8b92",
   "metadata": {},
   "outputs": [
    {
     "data": {
      "text/plain": [
       "array([ 1., 20.])"
      ]
     },
     "execution_count": 21,
     "metadata": {},
     "output_type": "execute_result"
    }
   ],
   "source": [
    "np.linspace(1,20,2)"
   ]
  },
  {
   "cell_type": "code",
   "execution_count": 22,
   "id": "767768e5",
   "metadata": {},
   "outputs": [
    {
     "data": {
      "text/plain": [
       "array([ 1,  3,  5,  7,  9, 11, 13, 15, 17, 19])"
      ]
     },
     "execution_count": 22,
     "metadata": {},
     "output_type": "execute_result"
    }
   ],
   "source": [
    "np.arange(1,20,2)"
   ]
  },
  {
   "cell_type": "markdown",
   "id": "1445407e",
   "metadata": {},
   "source": [
    "##  arange and linspace are competely opposite to each other"
   ]
  },
  {
   "cell_type": "code",
   "execution_count": 25,
   "id": "4e6bf799",
   "metadata": {},
   "outputs": [
    {
     "data": {
      "text/plain": [
       "array([[1., 0., 0., 0.],\n",
       "       [0., 1., 0., 0.],\n",
       "       [0., 0., 1., 0.],\n",
       "       [0., 0., 0., 1.]])"
      ]
     },
     "execution_count": 25,
     "metadata": {},
     "output_type": "execute_result"
    }
   ],
   "source": [
    "np.identity(4) # Identity matrix is always square matrxi"
   ]
  },
  {
   "cell_type": "code",
   "execution_count": 26,
   "id": "e51b7d76",
   "metadata": {},
   "outputs": [
    {
     "data": {
      "text/plain": [
       "array([0.97053743, 0.47509561, 0.36071739, 0.85908524, 0.09504662])"
      ]
     },
     "execution_count": 26,
     "metadata": {},
     "output_type": "execute_result"
    }
   ],
   "source": [
    "np.random.rand(5) # uniform distrubution"
   ]
  },
  {
   "cell_type": "code",
   "execution_count": 28,
   "id": "76b9d139",
   "metadata": {},
   "outputs": [
    {
     "data": {
      "text/plain": [
       "array([[0.64474911, 0.4363409 ],\n",
       "       [0.38911064, 0.69926733],\n",
       "       [0.73815214, 0.84442717],\n",
       "       [0.94686395, 0.77827919],\n",
       "       [0.53924588, 0.54635823]])"
      ]
     },
     "execution_count": 28,
     "metadata": {},
     "output_type": "execute_result"
    }
   ],
   "source": [
    "np.random.rand(5,2) # throws some random numbers"
   ]
  },
  {
   "cell_type": "code",
   "execution_count": 29,
   "id": "35c9f529",
   "metadata": {},
   "outputs": [
    {
     "data": {
      "text/plain": [
       "array([-1.17690516,  0.32814202,  0.23220608, -0.01540359,  0.87599052])"
      ]
     },
     "execution_count": 29,
     "metadata": {},
     "output_type": "execute_result"
    }
   ],
   "source": [
    "np.random.randn(5) # -ve sign represents normal distribution"
   ]
  },
  {
   "cell_type": "code",
   "execution_count": 30,
   "id": "01c679dd",
   "metadata": {},
   "outputs": [
    {
     "data": {
      "text/plain": [
       "array([[-1.74354264, -0.12891518],\n",
       "       [-0.21127998,  1.25886609],\n",
       "       [ 0.27084065, -0.88322635],\n",
       "       [ 1.53671888,  0.33252436],\n",
       "       [ 0.10155386, -0.08022492]])"
      ]
     },
     "execution_count": 30,
     "metadata": {},
     "output_type": "execute_result"
    }
   ],
   "source": [
    "np.random.randn(5,2)"
   ]
  },
  {
   "cell_type": "code",
   "execution_count": 31,
   "id": "70956461",
   "metadata": {},
   "outputs": [],
   "source": [
    "import matplotlib.pyplot as plt"
   ]
  },
  {
   "cell_type": "code",
   "execution_count": 32,
   "id": "ff6dd3cc",
   "metadata": {},
   "outputs": [],
   "source": [
    "x = [0.64474911, 0.38911064,0.73815214, 0.94686395, 0.53924588 ]"
   ]
  },
  {
   "cell_type": "code",
   "execution_count": 33,
   "id": "8204d004",
   "metadata": {},
   "outputs": [],
   "source": [
    "y = [0.4363409 ,0.69926733, 0.84442717,0.77827919,0.54635823 ]"
   ]
  },
  {
   "cell_type": "code",
   "execution_count": 35,
   "id": "30021fd5",
   "metadata": {},
   "outputs": [
    {
     "data": {
      "text/plain": [
       "Text(0.5, 1.0, 'Uniform distrubation')"
      ]
     },
     "execution_count": 35,
     "metadata": {},
     "output_type": "execute_result"
    },
    {
     "data": {
      "image/png": "[encoded data removed]",
      "text/plain": [
       "<Figure size 640x480 with 1 Axes>"
      ]
     },
     "metadata": {},
     "output_type": "display_data"
    }
   ],
   "source": [
    "plt.plot(x,y)\n",
    "plt.title(\"Uniform distrubation\")"
   ]
  },
  {
   "cell_type": "code",
   "execution_count": 36,
   "id": "8bf1f1a4",
   "metadata": {},
   "outputs": [],
   "source": [
    "x = [-1.74354264,-0.21127998,0.27084065,1.53671888, 0.10155386]"
   ]
  },
  {
   "cell_type": "code",
   "execution_count": 37,
   "id": "0dbf64c9",
   "metadata": {},
   "outputs": [],
   "source": [
    "y = [-0.12891518, 1.25886609,-0.88322635, 0.33252436, -0.08022492 ]"
   ]
  },
  {
   "cell_type": "code",
   "execution_count": 38,
   "id": "a3f6b7ff",
   "metadata": {},
   "outputs": [
    {
     "data": {
      "text/plain": [
       "Text(0.5, 1.0, 'Normal distrubation')"
      ]
     },
     "execution_count": 38,
     "metadata": {},
     "output_type": "execute_result"
    },
    {
     "data": {
      "image/png": "[encoded data removed]",
      "text/plain": [
       "<Figure size 640x480 with 1 Axes>"
      ]
     },
     "metadata": {},
     "output_type": "display_data"
    }
   ],
   "source": [
    "plt.plot(x,y)\n",
    "plt.title(\"Normal distrubation\")"
   ]
  },
  {
   "cell_type": "code",
   "execution_count": 45,
   "id": "324fb598",
   "metadata": {},
   "outputs": [
    {
     "data": {
      "text/plain": [
       "68"
      ]
     },
     "execution_count": 45,
     "metadata": {},
     "output_type": "execute_result"
    }
   ],
   "source": [
    "np.random.randint(1,99)"
   ]
  },
  {
   "cell_type": "code",
   "execution_count": 46,
   "id": "b0e91df4",
   "metadata": {},
   "outputs": [],
   "source": [
    "my_num = np.arange(25)"
   ]
  },
  {
   "cell_type": "code",
   "execution_count": 47,
   "id": "f96706ec",
   "metadata": {},
   "outputs": [
    {
     "data": {
      "text/plain": [
       "array([ 0,  1,  2,  3,  4,  5,  6,  7,  8,  9, 10, 11, 12, 13, 14, 15, 16,\n",
       "       17, 18, 19, 20, 21, 22, 23, 24])"
      ]
     },
     "execution_count": 47,
     "metadata": {},
     "output_type": "execute_result"
    }
   ],
   "source": [
    "my_num"
   ]
  },
  {
   "cell_type": "code",
   "execution_count": 48,
   "id": "f87fbf5f",
   "metadata": {},
   "outputs": [],
   "source": [
    "my_reshaped = my_num.reshape(5,5)"
   ]
  },
  {
   "cell_type": "markdown",
   "id": "8ffd83af",
   "metadata": {},
   "source": [
    "## no null values and no insuffecent size"
   ]
  },
  {
   "cell_type": "code",
   "execution_count": 49,
   "id": "ae951827",
   "metadata": {},
   "outputs": [
    {
     "data": {
      "text/plain": [
       "array([[ 0,  1,  2,  3,  4],\n",
       "       [ 5,  6,  7,  8,  9],\n",
       "       [10, 11, 12, 13, 14],\n",
       "       [15, 16, 17, 18, 19],\n",
       "       [20, 21, 22, 23, 24]])"
      ]
     },
     "execution_count": 49,
     "metadata": {},
     "output_type": "execute_result"
    }
   ],
   "source": [
    "my_reshaped"
   ]
  },
  {
   "cell_type": "code",
   "execution_count": 50,
   "id": "345ccf56",
   "metadata": {},
   "outputs": [
    {
     "ename": "ValueError",
     "evalue": "cannot reshape array of size 25 into shape (5,4)",
     "output_type": "error",
     "traceback": [
      "\u001b[1;31m---------------------------------------------------------------------------\u001b[0m",
      "\u001b[1;31mValueError\u001b[0m                                Traceback (most recent call last)",
      "Input \u001b[1;32mIn [50]\u001b[0m, in \u001b[0;36m<cell line: 1>\u001b[1;34m()\u001b[0m\n\u001b[1;32m----> 1\u001b[0m my_reshaped \u001b[38;5;241m=\u001b[39m \u001b[43mmy_num\u001b[49m\u001b[38;5;241;43m.\u001b[39;49m\u001b[43mreshape\u001b[49m\u001b[43m(\u001b[49m\u001b[38;5;241;43m5\u001b[39;49m\u001b[43m,\u001b[49m\u001b[38;5;241;43m4\u001b[39;49m\u001b[43m)\u001b[49m\n",
      "\u001b[1;31mValueError\u001b[0m: cannot reshape array of size 25 into shape (5,4)"
     ]
    }
   ],
   "source": [
    "my_reshaped = my_num.reshape(5,4)"
   ]
  },
  {
   "cell_type": "code",
   "execution_count": 51,
   "id": "57fbccd7",
   "metadata": {},
   "outputs": [
    {
     "ename": "ValueError",
     "evalue": "cannot reshape array of size 25 into shape (6,6)",
     "output_type": "error",
     "traceback": [
      "\u001b[1;31m---------------------------------------------------------------------------\u001b[0m",
      "\u001b[1;31mValueError\u001b[0m                                Traceback (most recent call last)",
      "Input \u001b[1;32mIn [51]\u001b[0m, in \u001b[0;36m<cell line: 1>\u001b[1;34m()\u001b[0m\n\u001b[1;32m----> 1\u001b[0m my_reshaped \u001b[38;5;241m=\u001b[39m \u001b[43mmy_num\u001b[49m\u001b[38;5;241;43m.\u001b[39;49m\u001b[43mreshape\u001b[49m\u001b[43m(\u001b[49m\u001b[38;5;241;43m6\u001b[39;49m\u001b[43m,\u001b[49m\u001b[38;5;241;43m6\u001b[39;49m\u001b[43m)\u001b[49m\n",
      "\u001b[1;31mValueError\u001b[0m: cannot reshape array of size 25 into shape (6,6)"
     ]
    }
   ],
   "source": [
    "my_reshaped = my_num.reshape(6,6)"
   ]
  },
  {
   "cell_type": "code",
   "execution_count": 52,
   "id": "8971275f",
   "metadata": {},
   "outputs": [
    {
     "data": {
      "text/plain": [
       "'C:\\\\Users\\\\Gurus\\\\Desktop\\\\Untitled Folder'"
      ]
     },
     "execution_count": 52,
     "metadata": {},
     "output_type": "execute_result"
    }
   ],
   "source": [
    "pwd"
   ]
  },
  {
   "cell_type": "markdown",
   "id": "065f0cd9",
   "metadata": {},
   "source": [
    "## Intermediate stuff with numpy"
   ]
  },
  {
   "cell_type": "code",
   "execution_count": 53,
   "id": "849c1bc4",
   "metadata": {},
   "outputs": [],
   "source": [
    "Arr_1 = np.arange(10,21)"
   ]
  },
  {
   "cell_type": "code",
   "execution_count": 54,
   "id": "52b5d325",
   "metadata": {},
   "outputs": [
    {
     "data": {
      "text/plain": [
       "array([10, 11, 12, 13, 14, 15, 16, 17, 18, 19, 20])"
      ]
     },
     "execution_count": 54,
     "metadata": {},
     "output_type": "execute_result"
    }
   ],
   "source": [
    "Arr_1"
   ]
  },
  {
   "cell_type": "code",
   "execution_count": 55,
   "id": "91d7b2a5",
   "metadata": {},
   "outputs": [
    {
     "data": {
      "text/plain": [
       "10"
      ]
     },
     "execution_count": 55,
     "metadata": {},
     "output_type": "execute_result"
    }
   ],
   "source": [
    "Arr_1[0]"
   ]
  },
  {
   "cell_type": "code",
   "execution_count": 56,
   "id": "05fedd88",
   "metadata": {},
   "outputs": [
    {
     "data": {
      "text/plain": [
       "array([14, 15, 16, 17, 18])"
      ]
     },
     "execution_count": 56,
     "metadata": {},
     "output_type": "execute_result"
    }
   ],
   "source": [
    "Arr_1[4:9]"
   ]
  },
  {
   "cell_type": "code",
   "execution_count": 57,
   "id": "10037f82",
   "metadata": {},
   "outputs": [
    {
     "data": {
      "text/plain": [
       "array([10, 11, 12, 13])"
      ]
     },
     "execution_count": 57,
     "metadata": {},
     "output_type": "execute_result"
    }
   ],
   "source": [
    "Arr_1[:4]"
   ]
  },
  {
   "cell_type": "code",
   "execution_count": 58,
   "id": "28d91729",
   "metadata": {},
   "outputs": [
    {
     "data": {
      "text/plain": [
       "array([20, 19, 18, 17, 16, 15, 14, 13, 12, 11, 10])"
      ]
     },
     "execution_count": 58,
     "metadata": {},
     "output_type": "execute_result"
    }
   ],
   "source": [
    "Arr_1[::-1]"
   ]
  },
  {
   "cell_type": "code",
   "execution_count": 59,
   "id": "e65740a3",
   "metadata": {},
   "outputs": [],
   "source": [
    "part_array = Arr_1[:4]"
   ]
  },
  {
   "cell_type": "code",
   "execution_count": 60,
   "id": "2bcfc9da",
   "metadata": {},
   "outputs": [
    {
     "data": {
      "text/plain": [
       "array([10, 11, 12, 13])"
      ]
     },
     "execution_count": 60,
     "metadata": {},
     "output_type": "execute_result"
    }
   ],
   "source": [
    "part_array"
   ]
  },
  {
   "cell_type": "code",
   "execution_count": 61,
   "id": "009104e4",
   "metadata": {},
   "outputs": [],
   "source": [
    "part_array = 50"
   ]
  },
  {
   "cell_type": "code",
   "execution_count": 62,
   "id": "3571133c",
   "metadata": {},
   "outputs": [
    {
     "data": {
      "text/plain": [
       "50"
      ]
     },
     "execution_count": 62,
     "metadata": {},
     "output_type": "execute_result"
    }
   ],
   "source": [
    "part_array"
   ]
  },
  {
   "cell_type": "code",
   "execution_count": 63,
   "id": "851602ce",
   "metadata": {},
   "outputs": [
    {
     "ename": "TypeError",
     "evalue": "'int' object does not support item assignment",
     "output_type": "error",
     "traceback": [
      "\u001b[1;31m---------------------------------------------------------------------------\u001b[0m",
      "\u001b[1;31mTypeError\u001b[0m                                 Traceback (most recent call last)",
      "Input \u001b[1;32mIn [63]\u001b[0m, in \u001b[0;36m<cell line: 1>\u001b[1;34m()\u001b[0m\n\u001b[1;32m----> 1\u001b[0m part_array[:] \u001b[38;5;241m=\u001b[39m \u001b[38;5;241m7\u001b[39m\n",
      "\u001b[1;31mTypeError\u001b[0m: 'int' object does not support item assignment"
     ]
    }
   ],
   "source": [
    "part_array[:] = 7"
   ]
  },
  {
   "cell_type": "code",
   "execution_count": 64,
   "id": "cc372a29",
   "metadata": {},
   "outputs": [],
   "source": [
    "arr1 = [5,3,2,1,5,6,22,56]"
   ]
  },
  {
   "cell_type": "code",
   "execution_count": 65,
   "id": "f03e9f53",
   "metadata": {},
   "outputs": [
    {
     "ename": "TypeError",
     "evalue": "can only assign an iterable",
     "output_type": "error",
     "traceback": [
      "\u001b[1;31m---------------------------------------------------------------------------\u001b[0m",
      "\u001b[1;31mTypeError\u001b[0m                                 Traceback (most recent call last)",
      "Input \u001b[1;32mIn [65]\u001b[0m, in \u001b[0;36m<cell line: 1>\u001b[1;34m()\u001b[0m\n\u001b[1;32m----> 1\u001b[0m arr1[:] \u001b[38;5;241m=\u001b[39m \u001b[38;5;241m90\u001b[39m\n",
      "\u001b[1;31mTypeError\u001b[0m: can only assign an iterable"
     ]
    }
   ],
   "source": [
    "arr1[:] = 90"
   ]
  },
  {
   "cell_type": "code",
   "execution_count": 66,
   "id": "f941bab8",
   "metadata": {},
   "outputs": [],
   "source": [
    "arr2 = np.arange(30,56)"
   ]
  },
  {
   "cell_type": "code",
   "execution_count": 67,
   "id": "f817bfc3",
   "metadata": {},
   "outputs": [
    {
     "data": {
      "text/plain": [
       "array([30, 31, 32, 33, 34, 35, 36, 37, 38, 39, 40, 41, 42, 43, 44, 45, 46,\n",
       "       47, 48, 49, 50, 51, 52, 53, 54, 55])"
      ]
     },
     "execution_count": 67,
     "metadata": {},
     "output_type": "execute_result"
    }
   ],
   "source": [
    "arr2"
   ]
  },
  {
   "cell_type": "code",
   "execution_count": 69,
   "id": "3db4d74e",
   "metadata": {},
   "outputs": [],
   "source": [
    "part_arr1 = arr2[:5]"
   ]
  },
  {
   "cell_type": "code",
   "execution_count": 70,
   "id": "b6f529ee",
   "metadata": {},
   "outputs": [
    {
     "data": {
      "text/plain": [
       "array([30, 31, 32, 33, 34])"
      ]
     },
     "execution_count": 70,
     "metadata": {},
     "output_type": "execute_result"
    }
   ],
   "source": [
    "part_arr1"
   ]
  },
  {
   "cell_type": "code",
   "execution_count": 71,
   "id": "732d0fb3",
   "metadata": {},
   "outputs": [],
   "source": [
    "part_arr1[:] = 6 # Replace every element in array with 6"
   ]
  },
  {
   "cell_type": "markdown",
   "id": "25f09ecc",
   "metadata": {},
   "source": [
    "## And now the same thing will reflect in the main array too numpy do it to save on memory \"BE AWARE\" of it"
   ]
  },
  {
   "cell_type": "code",
   "execution_count": 72,
   "id": "837ff152",
   "metadata": {},
   "outputs": [
    {
     "data": {
      "text/plain": [
       "array([6, 6, 6, 6, 6])"
      ]
     },
     "execution_count": 72,
     "metadata": {},
     "output_type": "execute_result"
    }
   ],
   "source": [
    "part_arr1"
   ]
  },
  {
   "cell_type": "code",
   "execution_count": 73,
   "id": "c17ff588",
   "metadata": {},
   "outputs": [
    {
     "data": {
      "text/plain": [
       "array([ 6,  6,  6,  6,  6, 35, 36, 37, 38, 39, 40, 41, 42, 43, 44, 45, 46,\n",
       "       47, 48, 49, 50, 51, 52, 53, 54, 55])"
      ]
     },
     "execution_count": 73,
     "metadata": {},
     "output_type": "execute_result"
    }
   ],
   "source": [
    "arr2"
   ]
  },
  {
   "cell_type": "markdown",
   "id": "ef40de6c",
   "metadata": {},
   "source": [
    "## To copy a array of it previous one is just an refernce"
   ]
  },
  {
   "cell_type": "code",
   "execution_count": 74,
   "id": "2adf56d0",
   "metadata": {},
   "outputs": [],
   "source": [
    "copy_array = arr2.copy()"
   ]
  },
  {
   "cell_type": "code",
   "execution_count": 75,
   "id": "52fe2b0c",
   "metadata": {},
   "outputs": [
    {
     "data": {
      "text/plain": [
       "array([ 6,  6,  6,  6,  6, 35, 36, 37, 38, 39, 40, 41, 42, 43, 44, 45, 46,\n",
       "       47, 48, 49, 50, 51, 52, 53, 54, 55])"
      ]
     },
     "execution_count": 75,
     "metadata": {},
     "output_type": "execute_result"
    }
   ],
   "source": [
    "copy_array"
   ]
  },
  {
   "cell_type": "code",
   "execution_count": 76,
   "id": "3279825e",
   "metadata": {},
   "outputs": [],
   "source": [
    "part_3 = copy_array[5:8]"
   ]
  },
  {
   "cell_type": "code",
   "execution_count": 77,
   "id": "549148ac",
   "metadata": {},
   "outputs": [
    {
     "data": {
      "text/plain": [
       "array([35, 36, 37])"
      ]
     },
     "execution_count": 77,
     "metadata": {},
     "output_type": "execute_result"
    }
   ],
   "source": [
    "part_3"
   ]
  },
  {
   "cell_type": "code",
   "execution_count": 78,
   "id": "6b830037",
   "metadata": {},
   "outputs": [],
   "source": [
    "part_3[:] = 1000"
   ]
  },
  {
   "cell_type": "code",
   "execution_count": 79,
   "id": "1cdb4afd",
   "metadata": {},
   "outputs": [
    {
     "data": {
      "text/plain": [
       "array([1000, 1000, 1000])"
      ]
     },
     "execution_count": 79,
     "metadata": {},
     "output_type": "execute_result"
    }
   ],
   "source": [
    "part_3"
   ]
  },
  {
   "cell_type": "code",
   "execution_count": 80,
   "id": "d19a7c04",
   "metadata": {},
   "outputs": [
    {
     "data": {
      "text/plain": [
       "array([   6,    6,    6,    6,    6, 1000, 1000, 1000,   38,   39,   40,\n",
       "         41,   42,   43,   44,   45,   46,   47,   48,   49,   50,   51,\n",
       "         52,   53,   54,   55])"
      ]
     },
     "execution_count": 80,
     "metadata": {},
     "output_type": "execute_result"
    }
   ],
   "source": [
    "copy_array"
   ]
  },
  {
   "cell_type": "code",
   "execution_count": 81,
   "id": "b0667d78",
   "metadata": {},
   "outputs": [
    {
     "data": {
      "text/plain": [
       "array([ 6,  6,  6,  6,  6, 35, 36, 37, 38, 39, 40, 41, 42, 43, 44, 45, 46,\n",
       "       47, 48, 49, 50, 51, 52, 53, 54, 55])"
      ]
     },
     "execution_count": 81,
     "metadata": {},
     "output_type": "execute_result"
    }
   ],
   "source": [
    "arr2"
   ]
  },
  {
   "cell_type": "markdown",
   "id": "7ed66ac7",
   "metadata": {},
   "source": [
    "## 2D Array"
   ]
  },
  {
   "cell_type": "code",
   "execution_count": 82,
   "id": "023aa7fb",
   "metadata": {},
   "outputs": [],
   "source": [
    "my_2d_array = np.array([[1,2,3], [4,5,6], [7,8,9]])"
   ]
  },
  {
   "cell_type": "code",
   "execution_count": 83,
   "id": "a2f2585a",
   "metadata": {},
   "outputs": [
    {
     "data": {
      "text/plain": [
       "array([[1, 2, 3],\n",
       "       [4, 5, 6],\n",
       "       [7, 8, 9]])"
      ]
     },
     "execution_count": 83,
     "metadata": {},
     "output_type": "execute_result"
    }
   ],
   "source": [
    "my_2d_array"
   ]
  },
  {
   "cell_type": "code",
   "execution_count": 84,
   "id": "e073acfe",
   "metadata": {},
   "outputs": [
    {
     "data": {
      "text/plain": [
       "8"
      ]
     },
     "execution_count": 84,
     "metadata": {},
     "output_type": "execute_result"
    }
   ],
   "source": [
    "my_2d_array[2][1] # Starts from 0"
   ]
  },
  {
   "cell_type": "code",
   "execution_count": 85,
   "id": "2697e8af",
   "metadata": {},
   "outputs": [
    {
     "data": {
      "text/plain": [
       "8"
      ]
     },
     "execution_count": 85,
     "metadata": {},
     "output_type": "execute_result"
    }
   ],
   "source": [
    "my_2d_array[2,1]"
   ]
  },
  {
   "cell_type": "code",
   "execution_count": 86,
   "id": "0c5b67a0",
   "metadata": {},
   "outputs": [
    {
     "data": {
      "text/plain": [
       "array([7, 8, 9])"
      ]
     },
     "execution_count": 86,
     "metadata": {},
     "output_type": "execute_result"
    }
   ],
   "source": [
    "my_2d_array[2] #selects the whole row"
   ]
  },
  {
   "cell_type": "markdown",
   "id": "60639bb6",
   "metadata": {},
   "source": [
    "## To create a sub matrix with 2,3,5,6"
   ]
  },
  {
   "cell_type": "code",
   "execution_count": 87,
   "id": "e0e4ff19",
   "metadata": {},
   "outputs": [
    {
     "data": {
      "text/plain": [
       "array([[2, 3],\n",
       "       [5, 6]])"
      ]
     },
     "execution_count": 87,
     "metadata": {},
     "output_type": "execute_result"
    }
   ],
   "source": [
    "my_2d_array[:2, 1:] # 2 since the outer part is excluded"
   ]
  },
  {
   "cell_type": "markdown",
   "id": "316a44cf",
   "metadata": {},
   "source": [
    "## To create sub matrixes with 1,2,4,5 and 4,5,7,8 and 5,6,8,9"
   ]
  },
  {
   "cell_type": "code",
   "execution_count": 90,
   "id": "7bc9303d",
   "metadata": {},
   "outputs": [
    {
     "data": {
      "text/plain": [
       "array([[1, 2],\n",
       "       [4, 5]])"
      ]
     },
     "execution_count": 90,
     "metadata": {},
     "output_type": "execute_result"
    }
   ],
   "source": [
    "my_2d_array[:2,:2]"
   ]
  },
  {
   "cell_type": "code",
   "execution_count": 91,
   "id": "699014a2",
   "metadata": {},
   "outputs": [
    {
     "data": {
      "text/plain": [
       "array([[4, 5],\n",
       "       [7, 8]])"
      ]
     },
     "execution_count": 91,
     "metadata": {},
     "output_type": "execute_result"
    }
   ],
   "source": [
    "my_2d_array[1:,:2]"
   ]
  },
  {
   "cell_type": "code",
   "execution_count": 92,
   "id": "a5c64ad8",
   "metadata": {},
   "outputs": [
    {
     "data": {
      "text/plain": [
       "array([[5, 6],\n",
       "       [8, 9]])"
      ]
     },
     "execution_count": 92,
     "metadata": {},
     "output_type": "execute_result"
    }
   ],
   "source": [
    "my_2d_array[1:,1:]"
   ]
  },
  {
   "cell_type": "code",
   "execution_count": 93,
   "id": "c8c89157",
   "metadata": {},
   "outputs": [],
   "source": [
    "new_array = np.arange(10,51)"
   ]
  },
  {
   "cell_type": "code",
   "execution_count": 94,
   "id": "44b8c584",
   "metadata": {},
   "outputs": [
    {
     "data": {
      "text/plain": [
       "array([10, 11, 12, 13, 14, 15, 16, 17, 18, 19, 20, 21, 22, 23, 24, 25, 26,\n",
       "       27, 28, 29, 30, 31, 32, 33, 34, 35, 36, 37, 38, 39, 40, 41, 42, 43,\n",
       "       44, 45, 46, 47, 48, 49, 50])"
      ]
     },
     "execution_count": 94,
     "metadata": {},
     "output_type": "execute_result"
    }
   ],
   "source": [
    "new_array"
   ]
  },
  {
   "cell_type": "markdown",
   "id": "9d645197",
   "metadata": {},
   "source": [
    "## These things are also allowed ;)"
   ]
  },
  {
   "cell_type": "markdown",
   "id": "e29877d9",
   "metadata": {},
   "source": [
    "## Conditional returns"
   ]
  },
  {
   "cell_type": "code",
   "execution_count": 96,
   "id": "75c702af",
   "metadata": {},
   "outputs": [
    {
     "data": {
      "text/plain": [
       "array([41, 42, 43, 44, 45, 46, 47, 48, 49, 50])"
      ]
     },
     "execution_count": 96,
     "metadata": {},
     "output_type": "execute_result"
    }
   ],
   "source": [
    "new_array[new_array > 40] # Gives all the elements greater than 40 in the given array"
   ]
  },
  {
   "cell_type": "code",
   "execution_count": 97,
   "id": "05620023",
   "metadata": {},
   "outputs": [
    {
     "data": {
      "text/plain": [
       "array([False, False, False, False, False, False, False, False, False,\n",
       "       False, False, False, False, False, False, False, False, False,\n",
       "       False, False, False, False, False, False, False, False, False,\n",
       "       False, False, False, False,  True,  True,  True,  True,  True,\n",
       "        True,  True,  True,  True,  True])"
      ]
     },
     "execution_count": 97,
     "metadata": {},
     "output_type": "execute_result"
    }
   ],
   "source": [
    "new_array > 40 # So only true values will get out when called above"
   ]
  },
  {
   "cell_type": "markdown",
   "id": "2150706c",
   "metadata": {},
   "source": [
    "# Mean deviation, Dot and cross products"
   ]
  },
  {
   "cell_type": "code",
   "execution_count": 98,
   "id": "a8acd085",
   "metadata": {},
   "outputs": [
    {
     "data": {
      "text/plain": [
       "array([ 5. ,  5.5,  6. ,  6.5,  7. ,  7.5,  8. ,  8.5,  9. ,  9.5, 10. ,\n",
       "       10.5, 11. , 11.5, 12. , 12.5, 13. , 13.5, 14. , 14.5, 15. , 15.5,\n",
       "       16. , 16.5, 17. , 17.5, 18. , 18.5, 19. , 19.5, 20. , 20.5, 21. ,\n",
       "       21.5, 22. , 22.5, 23. , 23.5, 24. , 24.5, 25. ])"
      ]
     },
     "execution_count": 98,
     "metadata": {},
     "output_type": "execute_result"
    }
   ],
   "source": [
    "new_array /2 # Arthematic operations on Array"
   ]
  },
  {
   "cell_type": "markdown",
   "id": "375f3125",
   "metadata": {},
   "source": [
    "## 0/0 is not a error here in matrices it's just a null value"
   ]
  },
  {
   "cell_type": "code",
   "execution_count": 99,
   "id": "da1fe6df",
   "metadata": {
    "scrolled": true
   },
   "outputs": [
    {
     "data": {
      "text/plain": [
       "array([3.16227766, 3.31662479, 3.46410162, 3.60555128, 3.74165739,\n",
       "       3.87298335, 4.        , 4.12310563, 4.24264069, 4.35889894,\n",
       "       4.47213595, 4.58257569, 4.69041576, 4.79583152, 4.89897949,\n",
       "       5.        , 5.09901951, 5.19615242, 5.29150262, 5.38516481,\n",
       "       5.47722558, 5.56776436, 5.65685425, 5.74456265, 5.83095189,\n",
       "       5.91607978, 6.        , 6.08276253, 6.164414  , 6.244998  ,\n",
       "       6.32455532, 6.40312424, 6.4807407 , 6.55743852, 6.63324958,\n",
       "       6.70820393, 6.78232998, 6.8556546 , 6.92820323, 7.        ,\n",
       "       7.07106781])"
      ]
     },
     "execution_count": 99,
     "metadata": {},
     "output_type": "execute_result"
    }
   ],
   "source": [
    "np.sqrt(new_array)"
   ]
  },
  {
   "cell_type": "code",
   "execution_count": 101,
   "id": "e52324aa",
   "metadata": {},
   "outputs": [
    {
     "data": {
      "text/plain": [
       "19"
      ]
     },
     "execution_count": 101,
     "metadata": {},
     "output_type": "execute_result"
    }
   ],
   "source": [
    "np.dot([1,2,3], [1,3,4])"
   ]
  },
  {
   "cell_type": "markdown",
   "id": "69a62bcb",
   "metadata": {},
   "source": [
    "# Simillarly .mean and .cross, .std for standard deviation"
   ]
  },
  {
   "cell_type": "code",
   "execution_count": null,
   "id": "d4aa2225",
   "metadata": {},
   "outputs": [],
   "source": []
  }
 ],
 "metadata": {
  "kernelspec": {
   "display_name": "Python 3 (ipykernel)",
   "language": "python",
   "name": "python3"
  },
  "language_info": {
   "codemirror_mode": {
    "name": "ipython",
    "version": 3
   },
   "file_extension": ".py",
   "mimetype": "text/x-python",
   "name": "python",
   "nbconvert_exporter": "python",
   "pygments_lexer": "ipython3",
   "version": "3.9.13"
  }
 },
 "nbformat": 4,
 "nbformat_minor": 5
}
